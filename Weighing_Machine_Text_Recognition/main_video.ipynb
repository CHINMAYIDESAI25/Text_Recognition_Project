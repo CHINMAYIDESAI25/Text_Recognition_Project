{
 "cells": [
  {
   "cell_type": "code",
   "execution_count": 1,
   "metadata": {},
   "outputs": [],
   "source": [
    "from roboflow import Roboflow"
   ]
  },
  {
   "cell_type": "code",
   "execution_count": 2,
   "metadata": {},
   "outputs": [],
   "source": [
    "import csv"
   ]
  },
  {
   "cell_type": "code",
   "execution_count": 3,
   "metadata": {},
   "outputs": [],
   "source": [
    "import json\n",
    "cred_path = r\".secrets/credentials.json\""
   ]
  },
  {
   "cell_type": "code",
   "execution_count": 4,
   "metadata": {},
   "outputs": [],
   "source": [
    "with open(cred_path, \"r\") as f:\n",
    "    credentials = json.load(f)"
   ]
  },
  {
   "cell_type": "code",
   "execution_count": 5,
   "metadata": {},
   "outputs": [],
   "source": [
    "rf = Roboflow(api_key=credentials[\"api_key\"])"
   ]
  },
  {
   "cell_type": "code",
   "execution_count": 6,
   "metadata": {},
   "outputs": [
    {
     "name": "stdout",
     "output_type": "stream",
     "text": [
      "loading Roboflow workspace...\n",
      "loading Roboflow project...\n"
     ]
    }
   ],
   "source": [
    "project = rf.workspace().project(credentials[\"model_id\"])"
   ]
  },
  {
   "cell_type": "code",
   "execution_count": 7,
   "metadata": {},
   "outputs": [],
   "source": [
    "model = project.version(1).model"
   ]
  },
  {
   "cell_type": "code",
   "execution_count": 8,
   "metadata": {},
   "outputs": [],
   "source": [
    "import cv2"
   ]
  },
  {
   "cell_type": "code",
   "execution_count": 9,
   "metadata": {},
   "outputs": [],
   "source": [
    "def read_text(image_path):\n",
    "    response = model.predict(image_path, confidence=40, overlap=30).json()\n",
    "    sorted_predictions = sorted(response['predictions'], key=lambda pred: pred['x'])\n",
    "    val = ''\n",
    "    for pred in sorted_predictions:\n",
    "        val = val + pred['class']\n",
    "    num_val = float(val)\n",
    "    weight = f\"{num_val:.5f}\"\n",
    "    return weight"
   ]
  },
  {
   "cell_type": "code",
   "execution_count": 10,
   "metadata": {},
   "outputs": [],
   "source": [
    "def save_to_csv(data, csv_path='weights.csv'):\n",
    "    with open(csv_path, mode='w', newline='') as file:\n",
    "        writer = csv.writer(file)\n",
    "        writer.writerow([\"Product Name\", \"Detected Weight\"])\n",
    "        writer.writerows(data)"
   ]
  },
  {
   "cell_type": "code",
   "execution_count": 22,
   "metadata": {},
   "outputs": [],
   "source": [
    "def capture_frames_from_video(video_path):\n",
    "    cap = cv2.VideoCapture(video_path)\n",
    "    captured_frames = []\n",
    "    frame_number = 0\n",
    "\n",
    "    while cap.isOpened():\n",
    "        ret, frame = cap.read()\n",
    "        if not ret:\n",
    "            break\n",
    "\n",
    "        cv2.imshow('Video', frame)\n",
    "        key = cv2.waitKey(1) & 0xFF\n",
    "\n",
    "        if (key == ord(' ')):  \n",
    "            captured_frames.append(frame)\n",
    "            print(f\"Captured frame {frame_number}\")\n",
    "\n",
    "        elif (key == ord('q')):  \n",
    "            break\n",
    "\n",
    "        frame_number += 1\n",
    "\n",
    "    cap.release()\n",
    "    cv2.destroyAllWindows()\n",
    "    return captured_frames"
   ]
  },
  {
   "cell_type": "code",
   "execution_count": 18,
   "metadata": {},
   "outputs": [],
   "source": [
    "def save_frame_as_image(frame, image_path):\n",
    "    cv2.imwrite(image_path, frame)"
   ]
  },
  {
   "cell_type": "code",
   "execution_count": 26,
   "metadata": {},
   "outputs": [
    {
     "name": "stdout",
     "output_type": "stream",
     "text": [
      "Captured frame 170\n",
      "Captured frame 354\n",
      "Captured frame 560\n",
      "Product: A, Weight: 11903.00000\n",
      "Product: B, Weight: 3662.00000\n",
      "Product: C, Weight: 35226.70000\n",
      "Data saved to weights.csv\n"
     ]
    }
   ],
   "source": [
    "video_path = input(\"Enter the path to the video file: \")\n",
    "num_products = int(input(\"Enter the number of products: \"))\n",
    "\n",
    "products = []\n",
    "\n",
    "for _ in range(num_products):\n",
    "    product_name = input(f\"Enter the product name for product {_ + 1}: \")\n",
    "    products.append(product_name)\n",
    "\n",
    "csv_path = input(\"Enter the CSV file path to save the data (default is 'weights.csv'): \")\n",
    "\n",
    "if not csv_path:\n",
    "    csv_path = \"weights.csv\"\n",
    "\n",
    "data = []\n",
    "\n",
    "frames = capture_frames_from_video(video_path)\n",
    "\n",
    "for i, frame in enumerate(frames):\n",
    "    image_path = f\"Frames Captured\\\\frame_{i}.jpg\"\n",
    "    save_frame_as_image(frame, image_path)\n",
    "    \n",
    "    product_index = i % num_products  \n",
    "    product_name = products[product_index]\n",
    "    \n",
    "    weight = read_text(image_path)\n",
    "    data.append([product_name, weight])\n",
    "    print(f\"Product: {product_name}, Weight: {weight}\")\n",
    "\n",
    "save_to_csv(data, csv_path)\n",
    "\n",
    "print(f\"Data saved to {csv_path}\")"
   ]
  }
 ],
 "metadata": {
  "kernelspec": {
   "display_name": "env_kernel",
   "language": "python",
   "name": "env_kernel"
  },
  "language_info": {
   "codemirror_mode": {
    "name": "ipython",
    "version": 3
   },
   "file_extension": ".py",
   "mimetype": "text/x-python",
   "name": "python",
   "nbconvert_exporter": "python",
   "pygments_lexer": "ipython3",
   "version": "3.11.5"
  }
 },
 "nbformat": 4,
 "nbformat_minor": 2
}
