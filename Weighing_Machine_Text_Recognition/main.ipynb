{
 "cells": [
  {
   "cell_type": "code",
   "execution_count": 6,
   "metadata": {},
   "outputs": [],
   "source": [
    "from roboflow import Roboflow"
   ]
  },
  {
   "cell_type": "code",
   "execution_count": 7,
   "metadata": {},
   "outputs": [],
   "source": [
    "import csv"
   ]
  },
  {
   "cell_type": "code",
   "execution_count": 8,
   "metadata": {},
   "outputs": [],
   "source": [
    "import json\n",
    "cred_path = r\".secrets/credentials.json\""
   ]
  },
  {
   "cell_type": "code",
   "execution_count": 9,
   "metadata": {},
   "outputs": [],
   "source": [
    "with open(cred_path, \"r\") as f:\n",
    "    credentials = json.load(f)"
   ]
  },
  {
   "cell_type": "code",
   "execution_count": 10,
   "metadata": {},
   "outputs": [],
   "source": [
    "rf = Roboflow(api_key=credentials[\"api_key\"])"
   ]
  },
  {
   "cell_type": "code",
   "execution_count": 11,
   "metadata": {},
   "outputs": [
    {
     "name": "stdout",
     "output_type": "stream",
     "text": [
      "loading Roboflow workspace...\n",
      "loading Roboflow project...\n"
     ]
    }
   ],
   "source": [
    "project = rf.workspace().project(credentials[\"model_id\"])"
   ]
  },
  {
   "cell_type": "code",
   "execution_count": 12,
   "metadata": {},
   "outputs": [],
   "source": [
    "model = project.version(1).model"
   ]
  },
  {
   "cell_type": "code",
   "execution_count": 13,
   "metadata": {},
   "outputs": [],
   "source": [
    "# print(model.predict(image_path, confidence=40, overlap=30).json())"
   ]
  },
  {
   "cell_type": "code",
   "execution_count": 14,
   "metadata": {},
   "outputs": [],
   "source": [
    "def read_text (image_path) :\n",
    "    response = model.predict(image_path, confidence=40, overlap=30).json()\n",
    "    sorted_predictions = sorted(response['predictions'], key=lambda pred: pred['x'])\n",
    "    val = ''\n",
    "    for pred in sorted_predictions:\n",
    "        val = val + pred['class']\n",
    "        # print(pred['class'], end=\"\")\n",
    "    num_val = float(val)\n",
    "    weight = f\"{num_val:.5f}\"\n",
    "    return (weight)\n"
   ]
  },
  {
   "cell_type": "code",
   "execution_count": 15,
   "metadata": {},
   "outputs": [],
   "source": [
    "# print(read_text(image_path))"
   ]
  },
  {
   "cell_type": "code",
   "execution_count": 16,
   "metadata": {},
   "outputs": [],
   "source": [
    "def save_to_csv(data, csv_path='weights.csv'):\n",
    "    with open(csv_path, mode='w', newline='') as file:\n",
    "        writer = csv.writer(file)\n",
    "        writer.writerow([\"Product Name\", \"Detected Weight\"])\n",
    "        writer.writerows(data)"
   ]
  },
  {
   "cell_type": "code",
   "execution_count": 17,
   "metadata": {},
   "outputs": [
    {
     "name": "stdout",
     "output_type": "stream",
     "text": [
      "Product: ABC, Weight: 3526.70000\n",
      "Product: XYZ, Weight: 2932.60000\n",
      "Data saved to weights.csv\n"
     ]
    }
   ],
   "source": [
    "num_products = int(input(\"Enter the number of products: \"))\n",
    "\n",
    "products = []\n",
    "\n",
    "for _ in range(num_products):\n",
    "    product_name = input(\"Enter the product name: \")\n",
    "    image_path = input(\"Enter the image path: \")\n",
    "    products.append((product_name, image_path))\n",
    "\n",
    "data = []\n",
    "\n",
    "for product_name, image_path in products:\n",
    "    weight = read_text(image_path)\n",
    "    data.append([product_name, weight])\n",
    "    print(f\"Product: {product_name}, Weight: {weight}\")\n",
    "\n",
    "csv_path = input(\"Enter the CSV file path to save the data (default is 'weights.csv'): \")\n",
    "\n",
    "if not csv_path:\n",
    "    csv_path = \"weights.csv\"\n",
    "\n",
    "save_to_csv(data, csv_path)\n",
    "\n",
    "print(f\"Data saved to {csv_path}\")\n"
   ]
  },
  {
   "cell_type": "code",
   "execution_count": null,
   "metadata": {},
   "outputs": [],
   "source": []
  }
 ],
 "metadata": {
  "kernelspec": {
   "display_name": "env_kernel",
   "language": "python",
   "name": "env_kernel"
  },
  "language_info": {
   "codemirror_mode": {
    "name": "ipython",
    "version": 3
   },
   "file_extension": ".py",
   "mimetype": "text/x-python",
   "name": "python",
   "nbconvert_exporter": "python",
   "pygments_lexer": "ipython3",
   "version": "3.11.5"
  }
 },
 "nbformat": 4,
 "nbformat_minor": 2
}
